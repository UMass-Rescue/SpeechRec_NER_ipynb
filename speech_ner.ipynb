{
 "cells": [
  {
   "cell_type": "code",
   "execution_count": 2,
   "id": "3d4f7a2d",
   "metadata": {},
   "outputs": [],
   "source": [
    "import librosa\n",
    "import torch\n",
    "from transformers import Wav2Vec2ForCTC, Wav2Vec2Tokenizer\n",
    "import IPython.display as display\n",
    "import soundfile as sf\n",
    "import truecase\n",
    "import spacy\n",
    "from spacy import displacy\n",
    "from collections import Counter\n",
    "import en_core_web_sm\n",
    "import truecase\n",
    "nlp = spacy.load(\"en_core_web_sm\")"
   ]
  },
  {
   "cell_type": "code",
   "execution_count": 3,
   "id": "0d07aae8",
   "metadata": {},
   "outputs": [
    {
     "name": "stdout",
     "output_type": "stream",
     "text": [
      "[0. 0. 0. ... 0. 0. 0.]\n",
      "16000\n"
     ]
    }
   ],
   "source": [
    "# Loading the audio file\n",
    "audio, rate = librosa.load(\"data/short1.wav\", sr = 16000)\n",
    "\n",
    "# printing audio \n",
    "print(audio)\n",
    "\n",
    "# printing rate\n",
    "print(rate)"
   ]
  },
  {
   "cell_type": "code",
   "execution_count": 4,
   "id": "c58daf34",
   "metadata": {},
   "outputs": [
    {
     "name": "stderr",
     "output_type": "stream",
     "text": [
      "/Users/christopherdoan/miniconda3/envs/speech/lib/python3.8/site-packages/transformers/models/wav2vec2/tokenization_wav2vec2.py:356: FutureWarning: The class `Wav2Vec2Tokenizer` is deprecated and will be removed in version 5 of Transformers. Please use `Wav2Vec2Processor` or `Wav2Vec2CTCTokenizer` instead.\n",
      "  warnings.warn(\n",
      "Some weights of Wav2Vec2ForCTC were not initialized from the model checkpoint at facebook/wav2vec2-base-960h and are newly initialized: ['wav2vec2.masked_spec_embed']\n",
      "You should probably TRAIN this model on a down-stream task to be able to use it for predictions and inference.\n"
     ]
    }
   ],
   "source": [
    "# Importing Wav2Vec pretrained model\n",
    "\n",
    "tokenizer = Wav2Vec2Tokenizer.from_pretrained(\"facebook/wav2vec2-base-960h\")\n",
    "model = Wav2Vec2ForCTC.from_pretrained(\"facebook/wav2vec2-base-960h\")"
   ]
  },
  {
   "cell_type": "code",
   "execution_count": 5,
   "id": "29545fef",
   "metadata": {},
   "outputs": [
    {
     "name": "stdout",
     "output_type": "stream",
     "text": [
      "16000\n",
      "At home one where is Jane she is in the living room what is she doing she is playing the piano where is the car it is in the garage where is the dog the dog is in front of the door what is the dog doing the dog is eating at home two\n",
      "Where are you I am in the kitchen what are you doing I am cooking dinner where are bill and Mary they are in the living room what are they doing they are watching Te V where is the cat she is in the dining room what is she doing she is sleeping my favorite photograph\n",
      "One who is she she is my sister What's her name her name is Genifer where is she in this photograph She's in Toronto what is that building behind her she's standing in front of the s nd tower location one where is the school It's between the Li\n",
      "Brarie and the park where is the post office It's across from the movie theatre where is the Royal Bank It's next to the supermarket where is the gas station It's around the corner from the church where is the Barber shop It's near the bus station location two ex\n",
      "Cuse me can you tell me the way to the nearest Bank yes it's on Geneva Strait as a matter of fact I'm going that way myself so if you come with me I will show you thanks very much you're welcome color one may I help you yes please I am looking for an umbrella What's your favorite color\n",
      "It's black sorry we have no black umbrellas right now here is a nice umbrella but this umbrella is yellow that's O K yellow umbrellas are very popular this year color two excuse me is this your umbrella no it isn't are you sure yes I am sure that umbrella is Brown and\n",
      "My umbrella is yellow no questions are you married no I'm not I'm single tell me about your new car is it large no It's not it is small tell me about the questions in your English book are they difficult no they are not they are easy tell me about your new neighbors are they quiet\n",
      "No they aren't they are noisy short answer is Alice young or old she is young is bill tall or short he is short is Albert'S apartment big or little It's small were the last examinations easy or difficult they were difficult\n",
      "Is Julie married or single she is single telephone call too hello Jack this is Dave I want to return the book I borrowed from you last night will you be home at about six o'clock yes I will I'll be cooking dinner all well then I won't come over at sex why not I don't want to disturb you don't worry you won't disturb me\n",
      "Oh Keh I'll see you it six What's a grant my daughter is going to college that's great but it must be expensive yes but she has a grant a grant What's a grant the government is giving her money to pay for her education that's right does it pay for everything no she has a loan too What's the difference between a Loane and a grant you have to pay back alone a grant is a gift\n",
      "I'm busy on Friday would you like to go to a pop concert well I'd like to but when is it on Friday evening what a pity I'm busy on Friday maybe you could change your plans it's going to be a really great concert Maybe I will I wouldn't want a Miss it great I'll see you Friday bless you at to God bless you thank you you have a call yes\n",
      "That's why I'm sneezing so much I hope you feel better soon I get a bad cold every winter are you taking anything for your cold I'm taking contact does it help yes but it makes me sleepy Ou'D better not drive then I don't feel well what are you looking for my jacket I'm going to the doctor why What's the problem I'Mnot sure but I don't feel well do you have a fever no but I have a\n",
      "Een in my chest what time is your appointment eleven thirty I'm going now by good by I hope it's nothing serious thanks see can you help me can you help me officer I'll try What's the problem I can't get into my car where are your Keys The'Re in the car don't worry I can open it how can you do that with a Coathanger it's easy where can we get a coat Hanger there's one an\n",
      "Ae police car wait here thanks a lot you're very kind taking a cab hello hello where do you want to go seventy Maple Street please seventy Mibble Street no Maple Street Maple Street Let's see is that near saint David street I Dun'T know I've only been here one week Oh where are you from Torono\n",
      "I hate to get up I hate to get up in the morning me too what time do you get up at six o'clock Why do you get up so early I have to be at work by seven I don't get up until eight you're lucky what do you do I own a book store what time does your store open at eight thirty a hot day this heat is killing me me too it must be ninety five to\n",
      "Reese I would like a cold drink I'll get you on thanks Huthis Taktes good it does geese this hot weather makes me lazy me too get me another drink I guess if you're lazy no one else is allowed to be Ehe thanks for understanding phone out of order one EY EY what's wrong There's something wrong with the\n",
      "Phone I'm getting a strange noise are you I can hear you clearly hello hello his Payphone might be out of order I'll call you again with another phone hello how about now is there still a strange noise yes perhaps my phone is out of order you should Gettin touch with the phone company phone out of order two AY What's the matter with the phone here listen to this peculiar noise\n",
      "It doesn't sound like a dial tone Yed must be out of order we'd better notify the phone company how do we do that we can't use the phone Let's go next door and use our neighbor's phone he's always complaining about people I don't want to ask any favors of him how about across the street I forgot about Missus Riley I'm sure she'd let us use her phone\n"
     ]
    }
   ],
   "source": [
    "def asr_transcript(tokenizer, model, input_file):\n",
    "  transcript = \"\"\n",
    "  pre, rate = librosa.load(input_file, sr= 16000)\n",
    "  sf.write(\"data/temp1.wav\", pre, rate )\n",
    "  print(librosa.get_samplerate(\"data/temp1.wav\"))\n",
    "\n",
    "  stream = librosa.stream(\"data/temp1.wav\",\n",
    "                          block_length = 25,\n",
    "                          frame_length = 16000,\n",
    "                          hop_length = 16000)\n",
    "  \n",
    "  for speech in stream:\n",
    "    if len(speech.shape) > 1:\n",
    "      speech = speech[:,0] + speech[:,1]\n",
    "\n",
    "    input_values = tokenizer(speech, return_tensors=\"pt\").input_values\n",
    "    logits = model(input_values).logits\n",
    "    predicted_ids = torch.argmax(logits, dim = -1)\n",
    "    transcription = tokenizer.batch_decode(predicted_ids)[0]\n",
    "    print(truecase.get_true_case(transcription.lower()))\n",
    "    #print(transcription)\n",
    "    transcript += truecase.get_true_case(transcription.lower()) + \"\\n\"\n",
    "\n",
    "  return transcript\n",
    "\n",
    "\n",
    "short1_trans = asr_transcript(tokenizer, model, \"data/short1.wav\")"
   ]
  },
  {
   "cell_type": "code",
   "execution_count": 6,
   "id": "755c89af",
   "metadata": {},
   "outputs": [
    {
     "name": "stdout",
     "output_type": "stream",
     "text": [
      "word: Jane: TAG: PERSON\n",
      "word: Mary: TAG: PERSON\n",
      "word: Te V: TAG: PERSON\n",
      "word: Genifer: TAG: PERSON\n",
      "word: Toronto: TAG: GPE\n",
      "word: Li: TAG: PERSON\n",
      "word: Brarie: TAG: PERSON\n",
      "word: the Royal Bank: TAG: ORG\n",
      "word: Barber: TAG: PERSON\n",
      "word: Bank: TAG: ORG\n",
      "word: Geneva Strait: TAG: LOC\n",
      "word: this year: TAG: DATE\n",
      "word: Brown: TAG: PERSON\n",
      "word: English: TAG: LANGUAGE\n",
      "word: Alice young: TAG: PERSON\n",
      "word: Albert: TAG: PERSON\n",
      "word: Julie: TAG: PERSON\n",
      "word: Jack: TAG: PERSON\n",
      "word: Dave: TAG: PERSON\n",
      "word: last night: TAG: TIME\n",
      "word: about six o'clock: TAG: TIME\n",
      "word: Loane: TAG: PERSON\n",
      "word: Friday: TAG: DATE\n",
      "word: Friday: TAG: DATE\n",
      "word: evening: TAG: TIME\n",
      "word: Friday: TAG: DATE\n",
      "word: Friday: TAG: DATE\n",
      "word: eleven thirty: TAG: TIME\n",
      "word: Coathanger: TAG: LOC\n",
      "word: Hanger: TAG: PERSON\n",
      "word: Maple Street: TAG: FAC\n",
      "word: David: TAG: PERSON\n",
      "word: one week: TAG: DATE\n",
      "word: Torono: TAG: PERSON\n",
      "word: six o'clock: TAG: TIME\n",
      "word: eight thirty: TAG: TIME\n",
      "word: Reese: TAG: PERSON\n",
      "word: Huthis: TAG: ORG\n",
      "word: Ehe: TAG: PERSON\n",
      "word: EY: TAG: GPE\n",
      "word: EY: TAG: GPE\n",
      "word: Gettin: TAG: PERSON\n",
      "word: Yed: TAG: PERSON\n",
      "word: Missus Riley: TAG: PERSON\n"
     ]
    }
   ],
   "source": [
    "file1 = open(\"data/speech.txt\", \"w\")\n",
    "file1.write(short1_trans)\n",
    "file = open(\"data/speech.txt\", mode=\"r\")\n",
    "speech = file.read()\n",
    "doc = nlp(short1_trans) # put the Speech.txt string into the nlp object (this pipeline automatically extracts NER entities)\n",
    "for entities in doc.ents:\n",
    "  if (entities.label_ == \"CARDINAL\"):\n",
    "    nothing = \"nothing\"\n",
    "  else:\n",
    "    print(f\"word: {entities.text}: TAG: {entities.label_}\")"
   ]
  }
 ],
 "metadata": {
  "kernelspec": {
   "display_name": "speech",
   "language": "python",
   "name": "speech"
  },
  "language_info": {
   "codemirror_mode": {
    "name": "ipython",
    "version": 3
   },
   "file_extension": ".py",
   "mimetype": "text/x-python",
   "name": "python",
   "nbconvert_exporter": "python",
   "pygments_lexer": "ipython3",
   "version": "3.8.8"
  }
 },
 "nbformat": 4,
 "nbformat_minor": 5
}
